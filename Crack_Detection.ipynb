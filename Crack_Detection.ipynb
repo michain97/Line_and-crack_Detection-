{
 "cells": [
  {
   "cell_type": "markdown",
   "id": "13711af1",
   "metadata": {},
   "source": [
    "# Crack Detection"
   ]
  },
  {
   "cell_type": "markdown",
   "id": "48dfca1c",
   "metadata": {},
   "source": [
    "Pre-requisite: Your system should have a GPU with CUDA and CUDNN installed."
   ]
  },
  {
   "cell_type": "code",
   "execution_count": null,
   "id": "893b9c4a",
   "metadata": {},
   "outputs": [],
   "source": [
    "# Install the packages\n",
    "!pip3 install -U pip\n",
    "!pip3 install -U setuptools wheel\n",
    "!pip3 install autogluon"
   ]
  },
  {
   "cell_type": "markdown",
   "id": "f230401c",
   "metadata": {},
   "source": [
    "Download data from the link: https://drive.google.com/file/d/1YynE4aZTxJmMMS-vLeQnY9mewjULGHBs/view?usp=sharing"
   ]
  },
  {
   "cell_type": "markdown",
   "id": "5cfb526d",
   "metadata": {},
   "source": [
    "You can use any IDE of your preference to run the lines of code bellow"
   ]
  },
  {
   "cell_type": "code",
   "execution_count": null,
   "id": "4f8c627e",
   "metadata": {},
   "outputs": [],
   "source": [
    "# Import Packages\n",
    "import autogluon.core as ag\n",
    "from autogluon.vision import ImagePredictor, ImageDataset\n",
    "import pandas as pd\n",
    "import numpy as np\n",
    "from matplotlib import pyplot as plt\n",
    "from glob import glob\n",
    "from sklearn.metrics import classification_report,confusion_matrix,ConfusionMatrixDisplay"
   ]
  },
  {
   "cell_type": "code",
   "execution_count": null,
   "id": "5f923520",
   "metadata": {},
   "outputs": [],
   "source": [
    "# Set path for train and test data\n",
    "train_crack=glob('pavement_detection/train/crack/*.jpg')\\\n",
    "+glob('pavement_detection/train/massive_crack/*.jpg')\\\n",
    "+glob('pavement_detection/train/longitudinal_crack/*.jpg')\\\n",
    "+glob('pavement_detection/train/transverse_crack/*.jpg')\n",
    "train_nocrack=glob('pavement_detection/train/normal/*.jpg')\n",
    "len(train_crack),len(train_nocrack)"
   ]
  },
  {
   "cell_type": "code",
   "execution_count": null,
   "id": "e5d909d2",
   "metadata": {},
   "outputs": [],
   "source": [
    "test_crack=glob('pavement_detection/test/crack/*.jpg')\\\n",
    "+glob('pavement_detection/test/massive_crack/*.jpg')\\\n",
    "+glob('pavement_detection/test/longitudinal_crack/*.jpg')\\\n",
    "+glob('pavement+detection/test/transverse_crack/*.jpg')\n",
    "test_nocrack=glob('pavement_detection/test/normal/*.jpg')\n",
    "len(test_crack),len(test_nocrack)"
   ]
  },
  {
   "cell_type": "code",
   "execution_count": null,
   "id": "73db96ef",
   "metadata": {},
   "outputs": [],
   "source": [
    "# Create dataframe for train and test\n",
    "train_df=pd.concat([pd.DataFrame(train_crack),pd.DataFrame(train_nocrack)])\n",
    "train_df['label']=['crack']*len(train_crack)+['nocrack']*len(train_nocrack)\n",
    "train_df.columns=['image','label']\n",
    "\n",
    "test_df=pd.concat([pd.DataFrame(test_crack),pd.DataFrame(test_nocrack)])\n",
    "test_df['label']=['crack']*len(test_crack)+['nocrack']*len(test_nocrack)\n",
    "test_df.columns=['image','label']"
   ]
  },
  {
   "cell_type": "code",
   "execution_count": null,
   "id": "f38e9e9b",
   "metadata": {},
   "outputs": [],
   "source": [
    "# Train model\n",
    "predictor = ImagePredictor()\n",
    "predictor.fit(train_df, hyperparameters={'epochs': 10}) "
   ]
  },
  {
   "cell_type": "code",
   "execution_count": null,
   "id": "64bc579f",
   "metadata": {},
   "outputs": [],
   "source": [
    "# Test model\n",
    "test_result = predictor.predict(test_df)"
   ]
  },
  {
   "cell_type": "code",
   "execution_count": null,
   "id": "4eb24ce2",
   "metadata": {},
   "outputs": [],
   "source": [
    "# Result\n",
    "print(classification_report(test_df.label,test_result))\n",
    "\n",
    "# Visualization\n",
    "cm=confusion_matrix(test_df.label,test_result)\n",
    "disp=ConfusionMatrixDisplay(confusion_matrix=cm,display_labels=['crack', 'nocrack'])\n",
    "disp.plot()\n",
    "plt.show()"
   ]
  }
 ],
 "metadata": {
  "kernelspec": {
   "display_name": "Python 3",
   "language": "python",
   "name": "python3"
  },
  "language_info": {
   "codemirror_mode": {
    "name": "ipython",
    "version": 3
   },
   "file_extension": ".py",
   "mimetype": "text/x-python",
   "name": "python",
   "nbconvert_exporter": "python",
   "pygments_lexer": "ipython3",
   "version": "3.8.8"
  }
 },
 "nbformat": 4,
 "nbformat_minor": 5
}
